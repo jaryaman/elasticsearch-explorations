{
 "cells": [
  {
   "cell_type": "code",
   "execution_count": 1,
   "id": "228ee99a-8ae3-4f2f-b3be-297fa96c4f92",
   "metadata": {},
   "outputs": [],
   "source": [
    "import elasticsearch\n",
    "from elasticsearch import Elasticsearch\n",
    "import pandas as pd\n",
    "import os \n",
    "import sys"
   ]
  },
  {
   "cell_type": "code",
   "execution_count": 2,
   "id": "a03ac810-c876-40a5-bdb7-7ea60bc47fc4",
   "metadata": {},
   "outputs": [],
   "source": [
    "import urllib3\n",
    "urllib3.disable_warnings()"
   ]
  },
  {
   "cell_type": "code",
   "execution_count": 21,
   "id": "ef3ddce9-a830-4b85-a882-31312ae00166",
   "metadata": {},
   "outputs": [],
   "source": [
    "NULL_TOKEN = 'NULL'"
   ]
  },
  {
   "cell_type": "markdown",
   "id": "e1241916-f24c-4929-a97e-8c2db77359cf",
   "metadata": {},
   "source": [
    "I'm running this from Windows. I tried following [the docs here](https://www.elastic.co/guide/en/elasticsearch/reference/current/zip-windows.html) but had some trouble getting SSL verification to play ball. Life is too short for local SSL verification, so I'm going to run \"insecurely\" with http. This is for demo purposes only."
   ]
  },
  {
   "cell_type": "code",
   "execution_count": 3,
   "id": "2e571612-5429-4624-bd24-2580b97d9215",
   "metadata": {},
   "outputs": [
    {
     "name": "stderr",
     "output_type": "stream",
     "text": [
      "C:\\Users\\jarya\\miniconda3\\envs\\elastic\\lib\\site-packages\\elasticsearch\\connection\\http_requests.py:139: UserWarning: Connecting to https://localhost:9200 using SSL with verify_certs=False is insecure.\n",
      "  warnings.warn(\n"
     ]
    }
   ],
   "source": [
    "from elasticsearch import Elasticsearch, RequestsHttpConnection\n",
    "\n",
    "es = Elasticsearch(['localhost'], port=9200, connection_class=RequestsHttpConnection, http_auth=('elastic', 'FNAEODo+=fmntpwN7NsR'), use_ssl=True, verify_certs=False)\n",
    "\n",
    "assert es.ping()"
   ]
  },
  {
   "cell_type": "markdown",
   "id": "719a74b2-c3d3-4f6c-a157-e3da30d106fd",
   "metadata": {},
   "source": [
    "# Create index"
   ]
  },
  {
   "cell_type": "code",
   "execution_count": 4,
   "id": "0337086b-e2c6-4645-aaa9-6f7c60149788",
   "metadata": {},
   "outputs": [
    {
     "data": {
      "text/plain": [
       "{'acknowledged': True, 'shards_acknowledged': True, 'index': 'my-first-index'}"
      ]
     },
     "execution_count": 4,
     "metadata": {},
     "output_type": "execute_result"
    }
   ],
   "source": [
    "es.indices.create(index='my-first-index', ignore=400)"
   ]
  },
  {
   "cell_type": "markdown",
   "id": "22eed8ba-8ff8-4d09-ba7e-6a47c213b700",
   "metadata": {},
   "source": [
    "Go to Kibana dev tools and type the following in the console\n",
    "```\n",
    "GET _cat/indices\n",
    "```\n",
    "to view all indices"
   ]
  },
  {
   "cell_type": "code",
   "execution_count": 5,
   "id": "fe10f846-39a3-4317-8140-a2958b79e78d",
   "metadata": {},
   "outputs": [
    {
     "name": "stdout",
     "output_type": "stream",
     "text": [
      ".apm-custom-link\n",
      ".kibana_security_session_1\n",
      ".kibana_8.2.2_001\n",
      ".apm-agent-configuration\n",
      ".kibana-event-log-8.2.2-000001\n",
      ".security-7\n",
      ".kibana_task_manager_8.2.2_001\n",
      "my-first-index\n"
     ]
    },
    {
     "name": "stderr",
     "output_type": "stream",
     "text": [
      "C:\\Users\\jarya\\miniconda3\\envs\\elastic\\lib\\site-packages\\elasticsearch\\connection\\base.py:208: ElasticsearchWarning: this request accesses system indices: [.apm-custom-link, .kibana_security_session_1, .kibana_8.2.2_001, .apm-agent-configuration, .security-7, .kibana_task_manager_8.2.2_001], but in a future major version, direct access to system indices will be prevented by default\n",
      "  warnings.warn(message, category=ElasticsearchWarning)\n"
     ]
    }
   ],
   "source": [
    "res = es.indices.get_alias('*')\n",
    "for name in res:\n",
    "    print(name)"
   ]
  },
  {
   "cell_type": "code",
   "execution_count": 6,
   "id": "b1adb28e-ae8a-4c67-a533-92f3a5f5508a",
   "metadata": {},
   "outputs": [
    {
     "data": {
      "text/plain": [
       "{'acknowledged': True}"
      ]
     },
     "execution_count": 6,
     "metadata": {},
     "output_type": "execute_result"
    }
   ],
   "source": [
    "es.indices.delete(index='my-first-index', ignore=[400,401])"
   ]
  },
  {
   "cell_type": "code",
   "execution_count": 7,
   "id": "023ee862-43cd-4bf8-8342-c8aadbf31c8b",
   "metadata": {},
   "outputs": [
    {
     "name": "stdout",
     "output_type": "stream",
     "text": [
      ".apm-agent-configuration\n",
      ".security-7\n",
      ".kibana_security_session_1\n",
      ".kibana_8.2.2_001\n",
      ".kibana-event-log-8.2.2-000001\n",
      ".apm-custom-link\n",
      ".kibana_task_manager_8.2.2_001\n"
     ]
    },
    {
     "name": "stderr",
     "output_type": "stream",
     "text": [
      "C:\\Users\\jarya\\miniconda3\\envs\\elastic\\lib\\site-packages\\elasticsearch\\connection\\base.py:208: ElasticsearchWarning: this request accesses system indices: [.apm-agent-configuration, .security-7, .kibana_security_session_1, .kibana_8.2.2_001, .apm-custom-link, .kibana_task_manager_8.2.2_001], but in a future major version, direct access to system indices will be prevented by default\n",
      "  warnings.warn(message, category=ElasticsearchWarning)\n"
     ]
    }
   ],
   "source": [
    "res = es.indices.get_alias('*')\n",
    "for name in res:\n",
    "    print(name)"
   ]
  },
  {
   "cell_type": "markdown",
   "id": "63932f9d-9704-469a-8595-b91fea1b9f13",
   "metadata": {},
   "source": [
    "And the index is now gone."
   ]
  },
  {
   "cell_type": "markdown",
   "id": "7e45714b-6589-494a-894f-5e2fa52b1aa2",
   "metadata": {},
   "source": [
    "## Upload two sample JSON docs"
   ]
  },
  {
   "cell_type": "code",
   "execution_count": 8,
   "id": "becf9326-77c1-4924-bcb1-b338b2d30bee",
   "metadata": {},
   "outputs": [],
   "source": [
    "docs = [\n",
    "    {'first_name': 'John',\n",
    "     'last_name': 'Doe',\n",
    "     'age': 30,\n",
    "     'interests': ['group theory', 'cats']\n",
    "    },\n",
    "    {'first_name': 'Alice',\n",
    "     'last_name': 'Doe',\n",
    "     'age': 29,\n",
    "     'interests': ['category theory', 'dogs']\n",
    "    }\n",
    "]"
   ]
  },
  {
   "cell_type": "code",
   "execution_count": 9,
   "id": "e15675e3-1595-4712-9688-0b7f9379f66d",
   "metadata": {},
   "outputs": [
    {
     "data": {
      "text/plain": [
       "{'acknowledged': True, 'shards_acknowledged': True, 'index': 'people'}"
      ]
     },
     "execution_count": 9,
     "metadata": {},
     "output_type": "execute_result"
    }
   ],
   "source": [
    "es.indices.create(index='people', ignore=400)"
   ]
  },
  {
   "cell_type": "code",
   "execution_count": 10,
   "id": "8cde40e4-e942-4952-b6ff-6c3955aa6667",
   "metadata": {},
   "outputs": [],
   "source": [
    "for i, d in enumerate(docs):\n",
    "    res = es.index(index='people', doc_type='_doc', body=d, id=i+1)"
   ]
  },
  {
   "cell_type": "code",
   "execution_count": 11,
   "id": "c20fe2b1-31b9-4f09-807d-2dd65d189bf3",
   "metadata": {},
   "outputs": [
    {
     "data": {
      "text/plain": [
       "{'_index': 'people',\n",
       " '_id': '2',\n",
       " '_version': 1,\n",
       " 'result': 'created',\n",
       " '_shards': {'total': 2, 'successful': 1, 'failed': 0},\n",
       " '_seq_no': 1,\n",
       " '_primary_term': 1}"
      ]
     },
     "execution_count": 11,
     "metadata": {},
     "output_type": "execute_result"
    }
   ],
   "source": [
    "res"
   ]
  },
  {
   "cell_type": "markdown",
   "id": "2e97d517-c217-4f14-a935-c6423de5ca7e",
   "metadata": {},
   "source": [
    "Go to the console and type \n",
    "```\n",
    "GET people/_search\n",
    "```\n",
    "and you'll see the documents appear."
   ]
  },
  {
   "cell_type": "code",
   "execution_count": 12,
   "id": "fdc48617-cf57-4b72-b18e-c007624f66c4",
   "metadata": {},
   "outputs": [
    {
     "data": {
      "text/plain": [
       "{'acknowledged': True}"
      ]
     },
     "execution_count": 12,
     "metadata": {},
     "output_type": "execute_result"
    }
   ],
   "source": [
    "es.indices.delete(index='people', ignore=[400,401])"
   ]
  },
  {
   "cell_type": "markdown",
   "id": "b412b52f-847e-47fc-aa82-02350da9b2c1",
   "metadata": {},
   "source": [
    "# Importing documents into elasticsearch"
   ]
  },
  {
   "cell_type": "code",
   "execution_count": 13,
   "id": "84b69639-c17f-4347-a116-8511da396266",
   "metadata": {},
   "outputs": [],
   "source": [
    "import pandas as pd\n",
    "import json\n",
    "from ast import literal_eval\n",
    "from tqdm import tqdm\n",
    "import datetime\n",
    "import os\n",
    "import sys\n",
    "from elasticsearch import helpers"
   ]
  },
  {
   "cell_type": "markdown",
   "id": "d3672bd2-3538-49f0-9bae-3412e90c39ed",
   "metadata": {},
   "source": [
    "Data [comes from here](https://www.kaggle.com/datasets/shivamb/netflix-shows?resource=download)."
   ]
  },
  {
   "cell_type": "code",
   "execution_count": 14,
   "id": "333ef03e-f9f6-4d49-8687-ac07f3c3af96",
   "metadata": {},
   "outputs": [],
   "source": [
    "df = pd.read_csv('data/netflix_titles.csv')"
   ]
  },
  {
   "cell_type": "code",
   "execution_count": 15,
   "id": "9f19fea8-7128-4b2f-bdda-c9b3b5516f74",
   "metadata": {},
   "outputs": [
    {
     "data": {
      "text/html": [
       "<div>\n",
       "<style scoped>\n",
       "    .dataframe tbody tr th:only-of-type {\n",
       "        vertical-align: middle;\n",
       "    }\n",
       "\n",
       "    .dataframe tbody tr th {\n",
       "        vertical-align: top;\n",
       "    }\n",
       "\n",
       "    .dataframe thead th {\n",
       "        text-align: right;\n",
       "    }\n",
       "</style>\n",
       "<table border=\"1\" class=\"dataframe\">\n",
       "  <thead>\n",
       "    <tr style=\"text-align: right;\">\n",
       "      <th></th>\n",
       "      <th>show_id</th>\n",
       "      <th>type</th>\n",
       "      <th>title</th>\n",
       "      <th>director</th>\n",
       "      <th>cast</th>\n",
       "      <th>country</th>\n",
       "      <th>date_added</th>\n",
       "      <th>release_year</th>\n",
       "      <th>rating</th>\n",
       "      <th>duration</th>\n",
       "      <th>listed_in</th>\n",
       "      <th>description</th>\n",
       "    </tr>\n",
       "  </thead>\n",
       "  <tbody>\n",
       "    <tr>\n",
       "      <th>0</th>\n",
       "      <td>s1</td>\n",
       "      <td>Movie</td>\n",
       "      <td>Dick Johnson Is Dead</td>\n",
       "      <td>Kirsten Johnson</td>\n",
       "      <td>NaN</td>\n",
       "      <td>United States</td>\n",
       "      <td>September 25, 2021</td>\n",
       "      <td>2020</td>\n",
       "      <td>PG-13</td>\n",
       "      <td>90 min</td>\n",
       "      <td>Documentaries</td>\n",
       "      <td>As her father nears the end of his life, filmm...</td>\n",
       "    </tr>\n",
       "    <tr>\n",
       "      <th>1</th>\n",
       "      <td>s2</td>\n",
       "      <td>TV Show</td>\n",
       "      <td>Blood &amp; Water</td>\n",
       "      <td>NaN</td>\n",
       "      <td>Ama Qamata, Khosi Ngema, Gail Mabalane, Thaban...</td>\n",
       "      <td>South Africa</td>\n",
       "      <td>September 24, 2021</td>\n",
       "      <td>2021</td>\n",
       "      <td>TV-MA</td>\n",
       "      <td>2 Seasons</td>\n",
       "      <td>International TV Shows, TV Dramas, TV Mysteries</td>\n",
       "      <td>After crossing paths at a party, a Cape Town t...</td>\n",
       "    </tr>\n",
       "    <tr>\n",
       "      <th>2</th>\n",
       "      <td>s3</td>\n",
       "      <td>TV Show</td>\n",
       "      <td>Ganglands</td>\n",
       "      <td>Julien Leclercq</td>\n",
       "      <td>Sami Bouajila, Tracy Gotoas, Samuel Jouy, Nabi...</td>\n",
       "      <td>NaN</td>\n",
       "      <td>September 24, 2021</td>\n",
       "      <td>2021</td>\n",
       "      <td>TV-MA</td>\n",
       "      <td>1 Season</td>\n",
       "      <td>Crime TV Shows, International TV Shows, TV Act...</td>\n",
       "      <td>To protect his family from a powerful drug lor...</td>\n",
       "    </tr>\n",
       "    <tr>\n",
       "      <th>3</th>\n",
       "      <td>s4</td>\n",
       "      <td>TV Show</td>\n",
       "      <td>Jailbirds New Orleans</td>\n",
       "      <td>NaN</td>\n",
       "      <td>NaN</td>\n",
       "      <td>NaN</td>\n",
       "      <td>September 24, 2021</td>\n",
       "      <td>2021</td>\n",
       "      <td>TV-MA</td>\n",
       "      <td>1 Season</td>\n",
       "      <td>Docuseries, Reality TV</td>\n",
       "      <td>Feuds, flirtations and toilet talk go down amo...</td>\n",
       "    </tr>\n",
       "    <tr>\n",
       "      <th>4</th>\n",
       "      <td>s5</td>\n",
       "      <td>TV Show</td>\n",
       "      <td>Kota Factory</td>\n",
       "      <td>NaN</td>\n",
       "      <td>Mayur More, Jitendra Kumar, Ranjan Raj, Alam K...</td>\n",
       "      <td>India</td>\n",
       "      <td>September 24, 2021</td>\n",
       "      <td>2021</td>\n",
       "      <td>TV-MA</td>\n",
       "      <td>2 Seasons</td>\n",
       "      <td>International TV Shows, Romantic TV Shows, TV ...</td>\n",
       "      <td>In a city of coaching centers known to train I...</td>\n",
       "    </tr>\n",
       "  </tbody>\n",
       "</table>\n",
       "</div>"
      ],
      "text/plain": [
       "  show_id     type                  title         director  \\\n",
       "0      s1    Movie   Dick Johnson Is Dead  Kirsten Johnson   \n",
       "1      s2  TV Show          Blood & Water              NaN   \n",
       "2      s3  TV Show              Ganglands  Julien Leclercq   \n",
       "3      s4  TV Show  Jailbirds New Orleans              NaN   \n",
       "4      s5  TV Show           Kota Factory              NaN   \n",
       "\n",
       "                                                cast        country  \\\n",
       "0                                                NaN  United States   \n",
       "1  Ama Qamata, Khosi Ngema, Gail Mabalane, Thaban...   South Africa   \n",
       "2  Sami Bouajila, Tracy Gotoas, Samuel Jouy, Nabi...            NaN   \n",
       "3                                                NaN            NaN   \n",
       "4  Mayur More, Jitendra Kumar, Ranjan Raj, Alam K...          India   \n",
       "\n",
       "           date_added  release_year rating   duration  \\\n",
       "0  September 25, 2021          2020  PG-13     90 min   \n",
       "1  September 24, 2021          2021  TV-MA  2 Seasons   \n",
       "2  September 24, 2021          2021  TV-MA   1 Season   \n",
       "3  September 24, 2021          2021  TV-MA   1 Season   \n",
       "4  September 24, 2021          2021  TV-MA  2 Seasons   \n",
       "\n",
       "                                           listed_in  \\\n",
       "0                                      Documentaries   \n",
       "1    International TV Shows, TV Dramas, TV Mysteries   \n",
       "2  Crime TV Shows, International TV Shows, TV Act...   \n",
       "3                             Docuseries, Reality TV   \n",
       "4  International TV Shows, Romantic TV Shows, TV ...   \n",
       "\n",
       "                                         description  \n",
       "0  As her father nears the end of his life, filmm...  \n",
       "1  After crossing paths at a party, a Cape Town t...  \n",
       "2  To protect his family from a powerful drug lor...  \n",
       "3  Feuds, flirtations and toilet talk go down amo...  \n",
       "4  In a city of coaching centers known to train I...  "
      ]
     },
     "execution_count": 15,
     "metadata": {},
     "output_type": "execute_result"
    }
   ],
   "source": [
    "df.head()"
   ]
  },
  {
   "cell_type": "markdown",
   "id": "c36ed4b5-b5b8-4875-a86c-31922b6e69bd",
   "metadata": {},
   "source": [
    "For every document we need an id. Let's see if `show_id` is a suitable candidate"
   ]
  },
  {
   "cell_type": "code",
   "execution_count": 16,
   "id": "246c2b89-fe9a-4853-8565-6908e4bcad2a",
   "metadata": {},
   "outputs": [],
   "source": [
    "assert df.show_id.nunique() == df.shape[0]"
   ]
  },
  {
   "cell_type": "markdown",
   "id": "948bd4e8-dc1e-413b-b6ec-d07c57f63d79",
   "metadata": {},
   "source": [
    "Yup."
   ]
  },
  {
   "cell_type": "code",
   "execution_count": 17,
   "id": "40771971-2ed9-443e-a305-c5e88b0a40bf",
   "metadata": {},
   "outputs": [
    {
     "name": "stdout",
     "output_type": "stream",
     "text": [
      "<class 'pandas.core.frame.DataFrame'>\n",
      "RangeIndex: 8807 entries, 0 to 8806\n",
      "Data columns (total 12 columns):\n",
      " #   Column        Non-Null Count  Dtype \n",
      "---  ------        --------------  ----- \n",
      " 0   show_id       8807 non-null   object\n",
      " 1   type          8807 non-null   object\n",
      " 2   title         8807 non-null   object\n",
      " 3   director      6173 non-null   object\n",
      " 4   cast          7982 non-null   object\n",
      " 5   country       7976 non-null   object\n",
      " 6   date_added    8797 non-null   object\n",
      " 7   release_year  8807 non-null   int64 \n",
      " 8   rating        8803 non-null   object\n",
      " 9   duration      8804 non-null   object\n",
      " 10  listed_in     8807 non-null   object\n",
      " 11  description   8807 non-null   object\n",
      "dtypes: int64(1), object(11)\n",
      "memory usage: 825.8+ KB\n"
     ]
    }
   ],
   "source": [
    "df.info()"
   ]
  },
  {
   "cell_type": "markdown",
   "id": "4998711c-672d-420d-b935-2ffab349e3e6",
   "metadata": {},
   "source": [
    "Fill with a null token where there are missing values"
   ]
  },
  {
   "cell_type": "code",
   "execution_count": 22,
   "id": "60cff7fa-5482-499b-8f5e-d59bf7c2ef60",
   "metadata": {},
   "outputs": [],
   "source": [
    "df_impute = df.fillna(NULL_TOKEN)"
   ]
  },
  {
   "cell_type": "markdown",
   "id": "3bf311fc-b073-490d-8237-85e3c09e0043",
   "metadata": {},
   "source": [
    "## Prepare data for elasticsearch"
   ]
  },
  {
   "cell_type": "code",
   "execution_count": 19,
   "id": "a6115fd3-57cf-4a95-9f92-8cd4bba799a1",
   "metadata": {},
   "outputs": [],
   "source": [
    "df_upload = df_impute.to_dict(orient='records')"
   ]
  },
  {
   "cell_type": "code",
   "execution_count": 20,
   "id": "d0e44040-2e54-49ae-94cc-255620cd5897",
   "metadata": {},
   "outputs": [
    {
     "data": {
      "text/plain": [
       "{'show_id': 's1',\n",
       " 'type': 'Movie',\n",
       " 'title': 'Dick Johnson Is Dead',\n",
       " 'director': 'Kirsten Johnson',\n",
       " 'cast': 'NULL',\n",
       " 'country': 'United States',\n",
       " 'date_added': 'September 25, 2021',\n",
       " 'release_year': 2020,\n",
       " 'rating': 'PG-13',\n",
       " 'duration': '90 min',\n",
       " 'listed_in': 'Documentaries',\n",
       " 'description': 'As her father nears the end of his life, filmmaker Kirsten Johnson stages his death in inventive and comical ways to help them both face the inevitable.'}"
      ]
     },
     "execution_count": 20,
     "metadata": {},
     "output_type": "execute_result"
    }
   ],
   "source": [
    "df_upload[0]          "
   ]
  },
  {
   "cell_type": "markdown",
   "id": "7f73c517-0dd2-4e14-bf66-bd50b1f4b65d",
   "metadata": {},
   "source": [
    "Preparing the dataset as `records` results in a dict for every row of the dataframe, where the keys are the columns. This is the required shape for upload into elasticsearch."
   ]
  },
  {
   "cell_type": "code",
   "execution_count": 29,
   "id": "a70215a9-be08-4c8f-89a9-becc4e0a6884",
   "metadata": {},
   "outputs": [],
   "source": [
    "def records(frame: pd.DataFrame):\n",
    "    for line in frame:\n",
    "        yield {\n",
    "            '_index': 'netflix',\n",
    "            '_id': line['show_id'],\n",
    "            '_source': {\n",
    "                'title': line.get('title', NULL_TOKEN),\n",
    "                'director': line.get('title', NULL_TOKEN),\n",
    "                'description': line.get('title', NULL_TOKEN),\n",
    "                'duration': line.get('duration', NULL_TOKEN),\n",
    "                'cast': line.get('cast', NULL_TOKEN),\n",
    "            }\n",
    "        }"
   ]
  },
  {
   "cell_type": "markdown",
   "id": "a7fa0137-595e-4205-9258-36bcb5e4a716",
   "metadata": {},
   "source": [
    "Note that mapping types are [no longer a thing](https://www.elastic.co/guide/en/elasticsearch/reference/7.17/removal-of-types.html) in elasticsearch. Let's upload with the `bulk` API."
   ]
  },
  {
   "cell_type": "code",
   "execution_count": 30,
   "id": "395127d6-aaed-45da-a557-b94b2ebea0b0",
   "metadata": {},
   "outputs": [],
   "source": [
    "res = helpers.bulk(es, records(df_upload))"
   ]
  },
  {
   "cell_type": "markdown",
   "id": "adfc5c97-cde5-432c-81f0-3d5c7b66f706",
   "metadata": {},
   "source": [
    "In elasticsearch, \n",
    "```\n",
    "GET _cat/indices\n",
    "```\n",
    "gives\n",
    "```\n",
    "yellow open netflix djGNQEBxTnaX9LIwZo48sA 1 1 8807 0 4.8mb 4.8mb\n",
    "```"
   ]
  },
  {
   "cell_type": "markdown",
   "id": "4ad4e351-a2c5-4cef-b159-e422f963520e",
   "metadata": {},
   "source": [
    "Also\n",
    "```\n",
    "GET netflix/_count\n",
    "```\n",
    "should show 8807 records.\n",
    "```\n",
    "GET netflix/_settings\n",
    "```\n",
    "should show 1 replica and 1 shard, as we did not give any parameters to our bulk upload.\n",
    "```\n",
    "GET netflix/_mapping\n",
    "```\n",
    "will give the types inferred for each field. Everything should be `\"type\":\"text\"`."
   ]
  },
  {
   "cell_type": "code",
   "execution_count": 31,
   "id": "be93570b-e9b8-4a9c-b8cf-cbb5c80e022c",
   "metadata": {},
   "outputs": [
    {
     "data": {
      "text/plain": [
       "{'acknowledged': True}"
      ]
     },
     "execution_count": 31,
     "metadata": {},
     "output_type": "execute_result"
    }
   ],
   "source": [
    "es.indices.delete(index='netflix', ignore=[400,401])"
   ]
  },
  {
   "cell_type": "markdown",
   "id": "459bb738-0706-41fe-bfa9-d6b2c66b43b3",
   "metadata": {},
   "source": [
    "## Settings and mappings"
   ]
  },
  {
   "cell_type": "markdown",
   "id": "ec8c5df2-9716-47f9-9d11-15a401cc28af",
   "metadata": {},
   "source": [
    "State up-front the types of each field, to enforce types at upload."
   ]
  },
  {
   "cell_type": "code",
   "execution_count": 36,
   "id": "4fca3dd5-f439-473c-b5ce-e053d57897fe",
   "metadata": {},
   "outputs": [],
   "source": [
    "settings_and_mappings = {\n",
    "    \"settings\":{\n",
    "        \"number_of_shards\":1,\n",
    "        \"number_of_replicas\":0,\n",
    "    },\n",
    "    \"mappings\":{\n",
    "        \"properties\":{\n",
    "            \"director\":{\"type\":\"text\"},\n",
    "            \"duration\":{\"type\":\"text\"},\n",
    "            \"description\":{\"type\":\"text\"},\n",
    "            \"title\":{\"type\":\"text\"},\n",
    "            \"cast\":{\"type\":\"text\"},            \n",
    "        }\n",
    "    }\n",
    "}"
   ]
  },
  {
   "cell_type": "code",
   "execution_count": 40,
   "id": "0dae4deb-0ade-46fa-a007-85d4449597b2",
   "metadata": {},
   "outputs": [],
   "source": [
    "res = es.indices.create(index='netflix', ignore=[400, 404], body=settings_and_mappings)"
   ]
  },
  {
   "cell_type": "markdown",
   "id": "1763502f-1d49-472c-a39f-d5e9ec2fef2c",
   "metadata": {},
   "source": [
    "If you take a look at `GET netflix/_mapping`, you should see the mappings above."
   ]
  },
  {
   "cell_type": "code",
   "execution_count": 41,
   "id": "bb139bb1-f90c-4807-823c-4ef5de7b57c9",
   "metadata": {},
   "outputs": [],
   "source": [
    "res = helpers.bulk(es, records(df_upload))"
   ]
  },
  {
   "cell_type": "code",
   "execution_count": 39,
   "id": "a7437320-6cd3-446e-a8fb-a937884515ff",
   "metadata": {},
   "outputs": [
    {
     "data": {
      "text/plain": [
       "{'acknowledged': True}"
      ]
     },
     "execution_count": 39,
     "metadata": {},
     "output_type": "execute_result"
    }
   ],
   "source": [
    "es.indices.delete(index='netflix', ignore=[400,401])"
   ]
  },
  {
   "cell_type": "code",
   "execution_count": null,
   "id": "e08982c7-0eb6-4216-84fe-a3fb23f17440",
   "metadata": {},
   "outputs": [],
   "source": []
  }
 ],
 "metadata": {
  "kernelspec": {
   "display_name": "Python 3 (ipykernel)",
   "language": "python",
   "name": "python3"
  },
  "language_info": {
   "codemirror_mode": {
    "name": "ipython",
    "version": 3
   },
   "file_extension": ".py",
   "mimetype": "text/x-python",
   "name": "python",
   "nbconvert_exporter": "python",
   "pygments_lexer": "ipython3",
   "version": "3.10.4"
  }
 },
 "nbformat": 4,
 "nbformat_minor": 5
}
